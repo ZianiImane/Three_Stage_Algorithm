{
 "cells": [
  {
   "cell_type": "code",
   "execution_count": 1,
   "metadata": {},
   "outputs": [],
   "source": [
    "import igraph as ig"
   ]
  },
  {
   "cell_type": "code",
   "execution_count": 2,
   "metadata": {},
   "outputs": [],
   "source": [
    "file = \"/home/imane/Desktop/PFE2020/file/Presentation examples/Example2.gml\""
   ]
  },
  {
   "cell_type": "code",
   "execution_count": 3,
   "metadata": {},
   "outputs": [],
   "source": [
    "def createGraph(file):\n",
    "    mainGraph = ig.Graph()\n",
    "    mainGraph = ig.load(file)\n",
    "    return mainGraph\n",
    "\n",
    "def drawGraph(graph):\n",
    "    graph.vs[\"vertex_size\"] = 200\n",
    "    graph.vs[\"label\"] = graph.vs[\"name\"]\n",
    "    graph.vs[\"color\"] = \"teal\"\n",
    "    layout = graph.layout(\"large\")\n",
    "    return ig.plot(graph, layout = \"circle\", bbox = (400, 400), margin = 20, vertex_size = 30, vertex_label_color = \"white\")"
   ]
  },
  {
   "cell_type": "code",
   "execution_count": 4,
   "metadata": {},
   "outputs": [
    {
     "data": {
      "image/svg+xml": [
       "<?xml version=\"1.0\" encoding=\"UTF-8\"?>\n",
       "<svg xmlns=\"http://www.w3.org/2000/svg\" xmlns:xlink=\"http://www.w3.org/1999/xlink\" width=\"400pt\" height=\"400pt\" viewBox=\"0 0 400 400\" version=\"1.1\">\n",
       "<defs>\n",
       "<g>\n",
       "<symbol overflow=\"visible\" id=\"glyph0-0\">\n",
       "<path style=\"stroke:none;\" d=\"M 0.703125 2.46875 L 0.703125 -9.875 L 7.703125 -9.875 L 7.703125 2.46875 Z M 1.484375 1.703125 L 6.921875 1.703125 L 6.921875 -9.078125 L 1.484375 -9.078125 Z M 1.484375 1.703125 \"/>\n",
       "</symbol>\n",
       "<symbol overflow=\"visible\" id=\"glyph0-1\">\n",
       "<path style=\"stroke:none;\" d=\"M 4.453125 -9.296875 C 3.742188 -9.296875 3.207031 -8.945312 2.84375 -8.25 C 2.488281 -7.550781 2.3125 -6.5 2.3125 -5.09375 C 2.3125 -3.695312 2.488281 -2.644531 2.84375 -1.9375 C 3.207031 -1.238281 3.742188 -0.890625 4.453125 -0.890625 C 5.171875 -0.890625 5.707031 -1.238281 6.0625 -1.9375 C 6.414062 -2.644531 6.59375 -3.695312 6.59375 -5.09375 C 6.59375 -6.5 6.414062 -7.550781 6.0625 -8.25 C 5.707031 -8.945312 5.171875 -9.296875 4.453125 -9.296875 Z M 4.453125 -10.390625 C 5.597656 -10.390625 6.472656 -9.9375 7.078125 -9.03125 C 7.679688 -8.125 7.984375 -6.8125 7.984375 -5.09375 C 7.984375 -3.375 7.679688 -2.0625 7.078125 -1.15625 C 6.472656 -0.25 5.597656 0.203125 4.453125 0.203125 C 3.304688 0.203125 2.429688 -0.25 1.828125 -1.15625 C 1.222656 -2.0625 0.921875 -3.375 0.921875 -5.09375 C 0.921875 -6.8125 1.222656 -8.125 1.828125 -9.03125 C 2.429688 -9.9375 3.304688 -10.390625 4.453125 -10.390625 Z M 4.453125 -10.390625 \"/>\n",
       "</symbol>\n",
       "<symbol overflow=\"visible\" id=\"glyph0-2\">\n",
       "<path style=\"stroke:none;\" d=\"M 1.734375 -1.15625 L 4 -1.15625 L 4 -8.953125 L 1.53125 -8.453125 L 1.53125 -9.71875 L 3.984375 -10.203125 L 5.359375 -10.203125 L 5.359375 -1.15625 L 7.609375 -1.15625 L 7.609375 0 L 1.734375 0 Z M 1.734375 -1.15625 \"/>\n",
       "</symbol>\n",
       "<symbol overflow=\"visible\" id=\"glyph0-3\">\n",
       "<path style=\"stroke:none;\" d=\"M 2.6875 -1.15625 L 7.5 -1.15625 L 7.5 0 L 1.03125 0 L 1.03125 -1.15625 C 1.550781 -1.695312 2.265625 -2.425781 3.171875 -3.34375 C 4.078125 -4.257812 4.644531 -4.847656 4.875 -5.109375 C 5.3125 -5.609375 5.617188 -6.03125 5.796875 -6.375 C 5.972656 -6.71875 6.0625 -7.054688 6.0625 -7.390625 C 6.0625 -7.929688 5.867188 -8.375 5.484375 -8.71875 C 5.109375 -9.0625 4.613281 -9.234375 4 -9.234375 C 3.570312 -9.234375 3.117188 -9.15625 2.640625 -9 C 2.160156 -8.851562 1.644531 -8.625 1.09375 -8.3125 L 1.09375 -9.71875 C 1.644531 -9.9375 2.160156 -10.101562 2.640625 -10.21875 C 3.128906 -10.332031 3.578125 -10.390625 3.984375 -10.390625 C 5.035156 -10.390625 5.875 -10.125 6.5 -9.59375 C 7.132812 -9.070312 7.453125 -8.367188 7.453125 -7.484375 C 7.453125 -7.054688 7.375 -6.65625 7.21875 -6.28125 C 7.0625 -5.90625 6.773438 -5.460938 6.359375 -4.953125 C 6.242188 -4.828125 5.878906 -4.445312 5.265625 -3.8125 C 4.660156 -3.175781 3.800781 -2.289062 2.6875 -1.15625 Z M 2.6875 -1.15625 \"/>\n",
       "</symbol>\n",
       "<symbol overflow=\"visible\" id=\"glyph0-4\">\n",
       "<path style=\"stroke:none;\" d=\"M 5.6875 -5.5 C 6.34375 -5.363281 6.851562 -5.070312 7.21875 -4.625 C 7.59375 -4.175781 7.78125 -3.625 7.78125 -2.96875 C 7.78125 -1.957031 7.429688 -1.175781 6.734375 -0.625 C 6.046875 -0.0703125 5.066406 0.203125 3.796875 0.203125 C 3.367188 0.203125 2.925781 0.15625 2.46875 0.0625 C 2.019531 -0.0195312 1.550781 -0.144531 1.0625 -0.3125 L 1.0625 -1.640625 C 1.445312 -1.421875 1.867188 -1.253906 2.328125 -1.140625 C 2.785156 -1.023438 3.257812 -0.96875 3.75 -0.96875 C 4.613281 -0.96875 5.269531 -1.132812 5.71875 -1.46875 C 6.175781 -1.8125 6.40625 -2.3125 6.40625 -2.96875 C 6.40625 -3.570312 6.191406 -4.039062 5.765625 -4.375 C 5.347656 -4.71875 4.765625 -4.890625 4.015625 -4.890625 L 2.828125 -4.890625 L 2.828125 -6.015625 L 4.078125 -6.015625 C 4.753906 -6.015625 5.269531 -6.148438 5.625 -6.421875 C 5.988281 -6.703125 6.171875 -7.097656 6.171875 -7.609375 C 6.171875 -8.128906 5.984375 -8.53125 5.609375 -8.8125 C 5.242188 -9.09375 4.710938 -9.234375 4.015625 -9.234375 C 3.640625 -9.234375 3.234375 -9.191406 2.796875 -9.109375 C 2.367188 -9.023438 1.894531 -8.894531 1.375 -8.71875 L 1.375 -9.953125 C 1.894531 -10.097656 2.382812 -10.207031 2.84375 -10.28125 C 3.300781 -10.351562 3.734375 -10.390625 4.140625 -10.390625 C 5.191406 -10.390625 6.019531 -10.148438 6.625 -9.671875 C 7.238281 -9.203125 7.546875 -8.5625 7.546875 -7.75 C 7.546875 -7.175781 7.382812 -6.695312 7.0625 -6.3125 C 6.738281 -5.925781 6.28125 -5.65625 5.6875 -5.5 Z M 5.6875 -5.5 \"/>\n",
       "</symbol>\n",
       "<symbol overflow=\"visible\" id=\"glyph0-5\">\n",
       "<path style=\"stroke:none;\" d=\"M 5.296875 -9 L 1.8125 -3.5625 L 5.296875 -3.5625 Z M 4.921875 -10.203125 L 6.671875 -10.203125 L 6.671875 -3.5625 L 8.125 -3.5625 L 8.125 -2.40625 L 6.671875 -2.40625 L 6.671875 0 L 5.296875 0 L 5.296875 -2.40625 L 0.6875 -2.40625 L 0.6875 -3.734375 Z M 4.921875 -10.203125 \"/>\n",
       "</symbol>\n",
       "<symbol overflow=\"visible\" id=\"glyph0-6\">\n",
       "<path style=\"stroke:none;\" d=\"M 1.515625 -10.203125 L 6.9375 -10.203125 L 6.9375 -9.046875 L 2.78125 -9.046875 L 2.78125 -6.546875 C 2.976562 -6.609375 3.175781 -6.65625 3.375 -6.6875 C 3.570312 -6.726562 3.773438 -6.75 3.984375 -6.75 C 5.117188 -6.75 6.019531 -6.4375 6.6875 -5.8125 C 7.351562 -5.1875 7.6875 -4.34375 7.6875 -3.28125 C 7.6875 -2.175781 7.34375 -1.316406 6.65625 -0.703125 C 5.976562 -0.0976562 5.015625 0.203125 3.765625 0.203125 C 3.335938 0.203125 2.898438 0.164062 2.453125 0.09375 C 2.015625 0.0195312 1.554688 -0.0859375 1.078125 -0.234375 L 1.078125 -1.625 C 1.492188 -1.40625 1.921875 -1.238281 2.359375 -1.125 C 2.796875 -1.019531 3.253906 -0.96875 3.734375 -0.96875 C 4.523438 -0.96875 5.148438 -1.171875 5.609375 -1.578125 C 6.066406 -1.992188 6.296875 -2.5625 6.296875 -3.28125 C 6.296875 -3.988281 6.066406 -4.546875 5.609375 -4.953125 C 5.148438 -5.367188 4.523438 -5.578125 3.734375 -5.578125 C 3.367188 -5.578125 3 -5.535156 2.625 -5.453125 C 2.257812 -5.378906 1.890625 -5.253906 1.515625 -5.078125 Z M 1.515625 -10.203125 \"/>\n",
       "</symbol>\n",
       "<symbol overflow=\"visible\" id=\"glyph0-7\">\n",
       "<path style=\"stroke:none;\" d=\"M 4.625 -5.65625 C 4 -5.65625 3.503906 -5.441406 3.140625 -5.015625 C 2.785156 -4.585938 2.609375 -4.007812 2.609375 -3.28125 C 2.609375 -2.539062 2.785156 -1.957031 3.140625 -1.53125 C 3.503906 -1.101562 4 -0.890625 4.625 -0.890625 C 5.238281 -0.890625 5.726562 -1.101562 6.09375 -1.53125 C 6.457031 -1.957031 6.640625 -2.539062 6.640625 -3.28125 C 6.640625 -4.007812 6.457031 -4.585938 6.09375 -5.015625 C 5.726562 -5.441406 5.238281 -5.65625 4.625 -5.65625 Z M 7.359375 -9.984375 L 7.359375 -8.71875 C 7.015625 -8.882812 6.664062 -9.007812 6.3125 -9.09375 C 5.957031 -9.1875 5.609375 -9.234375 5.265625 -9.234375 C 4.347656 -9.234375 3.648438 -8.925781 3.171875 -8.3125 C 2.691406 -7.695312 2.421875 -6.765625 2.359375 -5.515625 C 2.617188 -5.910156 2.953125 -6.210938 3.359375 -6.421875 C 3.765625 -6.640625 4.210938 -6.75 4.703125 -6.75 C 5.722656 -6.75 6.53125 -6.4375 7.125 -5.8125 C 7.726562 -5.1875 8.03125 -4.34375 8.03125 -3.28125 C 8.03125 -2.226562 7.71875 -1.382812 7.09375 -0.75 C 6.476562 -0.113281 5.65625 0.203125 4.625 0.203125 C 3.4375 0.203125 2.53125 -0.25 1.90625 -1.15625 C 1.289062 -2.0625 0.984375 -3.375 0.984375 -5.09375 C 0.984375 -6.707031 1.363281 -7.992188 2.125 -8.953125 C 2.894531 -9.910156 3.921875 -10.390625 5.203125 -10.390625 C 5.554688 -10.390625 5.90625 -10.351562 6.25 -10.28125 C 6.601562 -10.21875 6.972656 -10.117188 7.359375 -9.984375 Z M 7.359375 -9.984375 \"/>\n",
       "</symbol>\n",
       "</g>\n",
       "</defs>\n",
       "<g id=\"surface2\">\n",
       "<rect x=\"0\" y=\"0\" width=\"400\" height=\"400\" style=\"fill:rgb(100%,100%,100%);fill-opacity:1;stroke:none;\"/>\n",
       "<path style=\"fill:none;stroke-width:1;stroke-linecap:butt;stroke-linejoin:miter;stroke:rgb(26.666667%,26.666667%,26.666667%);stroke-opacity:1;stroke-miterlimit:10;\" d=\"M 380 200 L 308.699219 344.347656 \"/>\n",
       "<path style=\"fill:none;stroke-width:1;stroke-linecap:butt;stroke-linejoin:miter;stroke:rgb(26.666667%,26.666667%,26.666667%);stroke-opacity:1;stroke-miterlimit:10;\" d=\"M 380 200 L 20 280.109375 \"/>\n",
       "<path style=\"fill:none;stroke-width:1;stroke-linecap:butt;stroke-linejoin:miter;stroke:rgb(26.666667%,26.666667%,26.666667%);stroke-opacity:1;stroke-miterlimit:10;\" d=\"M 308.699219 344.347656 L 20 280.109375 \"/>\n",
       "<path style=\"fill:none;stroke-width:1;stroke-linecap:butt;stroke-linejoin:miter;stroke:rgb(26.666667%,26.666667%,26.666667%);stroke-opacity:1;stroke-miterlimit:10;\" d=\"M 308.699219 344.347656 L 148.484375 20 \"/>\n",
       "<path style=\"fill:none;stroke-width:1;stroke-linecap:butt;stroke-linejoin:miter;stroke:rgb(26.666667%,26.666667%,26.666667%);stroke-opacity:1;stroke-miterlimit:10;\" d=\"M 308.699219 344.347656 L 148.484375 380 \"/>\n",
       "<path style=\"fill:none;stroke-width:1;stroke-linecap:butt;stroke-linejoin:miter;stroke:rgb(26.666667%,26.666667%,26.666667%);stroke-opacity:1;stroke-miterlimit:10;\" d=\"M 20 280.109375 L 20 119.890625 \"/>\n",
       "<path style=\"fill:none;stroke-width:1;stroke-linecap:butt;stroke-linejoin:miter;stroke:rgb(26.666667%,26.666667%,26.666667%);stroke-opacity:1;stroke-miterlimit:10;\" d=\"M 20 119.890625 L 148.484375 20 \"/>\n",
       "<path style=\"fill:none;stroke-width:1;stroke-linecap:butt;stroke-linejoin:miter;stroke:rgb(26.666667%,26.666667%,26.666667%);stroke-opacity:1;stroke-miterlimit:10;\" d=\"M 20 119.890625 L 308.699219 55.652344 \"/>\n",
       "<path style=\"fill:none;stroke-width:1;stroke-linecap:butt;stroke-linejoin:miter;stroke:rgb(26.666667%,26.666667%,26.666667%);stroke-opacity:1;stroke-miterlimit:10;\" d=\"M 148.484375 380 L 20 119.890625 \"/>\n",
       "<path style=\"fill-rule:nonzero;fill:rgb(0%,50%,50%);fill-opacity:1;stroke-width:1;stroke-linecap:butt;stroke-linejoin:miter;stroke:rgb(0%,0%,0%);stroke-opacity:1;stroke-miterlimit:10;\" d=\"M 395 200 C 395 208.285156 388.285156 215 380 215 C 371.714844 215 365 208.285156 365 200 C 365 191.714844 371.714844 185 380 185 C 388.285156 185 395 191.714844 395 200 \"/>\n",
       "<path style=\"fill-rule:nonzero;fill:rgb(0%,50%,50%);fill-opacity:1;stroke-width:1;stroke-linecap:butt;stroke-linejoin:miter;stroke:rgb(0%,0%,0%);stroke-opacity:1;stroke-miterlimit:10;\" d=\"M 323.699219 344.347656 C 323.699219 352.632812 316.980469 359.347656 308.699219 359.347656 C 300.414062 359.347656 293.699219 352.632812 293.699219 344.347656 C 293.699219 336.066406 300.414062 329.347656 308.699219 329.347656 C 316.980469 329.347656 323.699219 336.066406 323.699219 344.347656 \"/>\n",
       "<path style=\"fill-rule:nonzero;fill:rgb(0%,50%,50%);fill-opacity:1;stroke-width:1;stroke-linecap:butt;stroke-linejoin:miter;stroke:rgb(0%,0%,0%);stroke-opacity:1;stroke-miterlimit:10;\" d=\"M 163.484375 380 C 163.484375 388.285156 156.765625 395 148.484375 395 C 140.199219 395 133.484375 388.285156 133.484375 380 C 133.484375 371.714844 140.199219 365 148.484375 365 C 156.765625 365 163.484375 371.714844 163.484375 380 \"/>\n",
       "<path style=\"fill-rule:nonzero;fill:rgb(0%,50%,50%);fill-opacity:1;stroke-width:1;stroke-linecap:butt;stroke-linejoin:miter;stroke:rgb(0%,0%,0%);stroke-opacity:1;stroke-miterlimit:10;\" d=\"M 35 280.109375 C 35 288.390625 28.285156 295.109375 20 295.109375 C 11.714844 295.109375 5 288.390625 5 280.109375 C 5 271.824219 11.714844 265.109375 20 265.109375 C 28.285156 265.109375 35 271.824219 35 280.109375 \"/>\n",
       "<path style=\"fill-rule:nonzero;fill:rgb(0%,50%,50%);fill-opacity:1;stroke-width:1;stroke-linecap:butt;stroke-linejoin:miter;stroke:rgb(0%,0%,0%);stroke-opacity:1;stroke-miterlimit:10;\" d=\"M 35 119.890625 C 35 128.175781 28.285156 134.890625 20 134.890625 C 11.714844 134.890625 5 128.175781 5 119.890625 C 5 111.609375 11.714844 104.890625 20 104.890625 C 28.285156 104.890625 35 111.609375 35 119.890625 \"/>\n",
       "<path style=\"fill-rule:nonzero;fill:rgb(0%,50%,50%);fill-opacity:1;stroke-width:1;stroke-linecap:butt;stroke-linejoin:miter;stroke:rgb(0%,0%,0%);stroke-opacity:1;stroke-miterlimit:10;\" d=\"M 163.484375 20 C 163.484375 28.285156 156.765625 35 148.484375 35 C 140.199219 35 133.484375 28.285156 133.484375 20 C 133.484375 11.714844 140.199219 5 148.484375 5 C 156.765625 5 163.484375 11.714844 163.484375 20 \"/>\n",
       "<path style=\"fill-rule:nonzero;fill:rgb(0%,50%,50%);fill-opacity:1;stroke-width:1;stroke-linecap:butt;stroke-linejoin:miter;stroke:rgb(0%,0%,0%);stroke-opacity:1;stroke-miterlimit:10;\" d=\"M 323.699219 55.652344 C 323.699219 63.933594 316.980469 70.652344 308.699219 70.652344 C 300.414062 70.652344 293.699219 63.933594 293.699219 55.652344 C 293.699219 47.367188 300.414062 40.652344 308.699219 40.652344 C 316.980469 40.652344 323.699219 47.367188 323.699219 55.652344 \"/>\n",
       "<g style=\"fill:rgb(100%,100%,100%);fill-opacity:1;\">\n",
       "  <use xlink:href=\"#glyph0-1\" x=\"375.550781\" y=\"206.847656\"/>\n",
       "</g>\n",
       "<g style=\"fill:rgb(100%,100%,100%);fill-opacity:1;\">\n",
       "  <use xlink:href=\"#glyph0-2\" x=\"304.121094\" y=\"351.101562\"/>\n",
       "</g>\n",
       "<g style=\"fill:rgb(100%,100%,100%);fill-opacity:1;\">\n",
       "  <use xlink:href=\"#glyph0-3\" x=\"144.21875\" y=\"386.847656\"/>\n",
       "</g>\n",
       "<g style=\"fill:rgb(100%,100%,100%);fill-opacity:1;\">\n",
       "  <use xlink:href=\"#glyph0-4\" x=\"15.574219\" y=\"286.953125\"/>\n",
       "</g>\n",
       "<g style=\"fill:rgb(100%,100%,100%);fill-opacity:1;\">\n",
       "  <use xlink:href=\"#glyph0-5\" x=\"15.597656\" y=\"126.644531\"/>\n",
       "</g>\n",
       "<g style=\"fill:rgb(100%,100%,100%);fill-opacity:1;\">\n",
       "  <use xlink:href=\"#glyph0-6\" x=\"144.101562\" y=\"26.753906\"/>\n",
       "</g>\n",
       "<g style=\"fill:rgb(100%,100%,100%);fill-opacity:1;\">\n",
       "  <use xlink:href=\"#glyph0-7\" x=\"304.195312\" y=\"62.496094\"/>\n",
       "</g>\n",
       "</g>\n",
       "</svg>\n"
      ],
      "text/plain": [
       "<igraph.drawing.Plot at 0x7f5bb36ef6d0>"
      ]
     },
     "execution_count": 4,
     "metadata": {
      "image/svg+xml": {
       "isolated": true
      }
     },
     "output_type": "execute_result"
    }
   ],
   "source": [
    "graph = createGraph(file)\n",
    "drawGraph(graph)"
   ]
  },
  {
   "cell_type": "code",
   "execution_count": 5,
   "metadata": {},
   "outputs": [
    {
     "name": "stdout",
     "output_type": "stream",
     "text": [
      "7\n"
     ]
    }
   ],
   "source": [
    "print(graph.vcount())"
   ]
  },
  {
   "cell_type": "markdown",
   "metadata": {},
   "source": [
    "<center> <h1>  STAGE ONE </h1>"
   ]
  },
  {
   "cell_type": "markdown",
   "metadata": {},
   "source": [
    "<center> <h2>  Central Nodes Identification </h2>"
   ]
  },
  {
   "cell_type": "markdown",
   "metadata": {},
   "source": [
    "</br>"
   ]
  },
  {
   "cell_type": "code",
   "execution_count": 6,
   "metadata": {},
   "outputs": [],
   "source": [
    "def rank_nodes(graph):\n",
    "    degrees_dict = {}\n",
    "    keys = graph.vs[\"name\"]\n",
    "    for name in keys:\n",
    "        degrees_dict[name] = graph.degree(name, loops=False)\n",
    "    degrees_dict = {name: value for name, value in sorted(degrees_dict.items(), key=lambda item: item[1], reverse = True)}\n",
    "    return degrees_dict"
   ]
  },
  {
   "cell_type": "code",
   "execution_count": 7,
   "metadata": {
    "scrolled": false
   },
   "outputs": [],
   "source": [
    "def sum_distances(graph):\n",
    "    sum_dist= 0\n",
    "    for i in range(graph.vcount()-1):\n",
    "        for j in range(i+1, graph.vcount()):\n",
    "            sum_dist = sum_dist + graph.shortest_paths_dijkstra(i, j)[0][0]\n",
    "    return sum_dist\n",
    "\n",
    "def avg_dist_D(graph):\n",
    "    n = graph.vcount()\n",
    "    return 2/(n*(n - 1)) * sum_distances(graph)"
   ]
  },
  {
   "cell_type": "code",
   "execution_count": 8,
   "metadata": {},
   "outputs": [],
   "source": [
    "def check(L, D, key):   \n",
    "    return(all(graph.shortest_paths_dijkstra(key, k)[0][0] >= D for k, v in L)) \n",
    "   \n",
    "def central_nodes_set(graph, degrees_dict, avg_dist):\n",
    "    cent_node_set = {}\n",
    "    remaining_nodes = {}\n",
    "    \n",
    "    cent_node_set[list(degrees_dict.keys())[0]] = list(degrees_dict.values())[0]\n",
    "    print(type(cent_node_set))\n",
    "    degrees_dict.pop(list(degrees_dict.keys())[0], None)\n",
    "    \n",
    "    for key, value in list(degrees_dict.items()):\n",
    "\n",
    "        if check(list(cent_node_set.items()), avg_dist, key):\n",
    "            cent_node_set[key] = degrees_dict[key]\n",
    "            del degrees_dict[key]\n",
    "        else:\n",
    "            remaining_nodes[key] = degrees_dict[key]\n",
    "            del degrees_dict[key]\n",
    "            \n",
    "    return cent_node_set, remaining_nodes"
   ]
  },
  {
   "cell_type": "code",
   "execution_count": 9,
   "metadata": {},
   "outputs": [],
   "source": [
    "def stage_one(graph):\n",
    "    degrees_dict = rank_nodes(graph)\n",
    "    D = avg_dist_D(graph)\n",
    "    return central_nodes_set(graph, degrees_dict, D)"
   ]
  },
  {
   "cell_type": "code",
   "execution_count": 10,
   "metadata": {},
   "outputs": [
    {
     "name": "stdout",
     "output_type": "stream",
     "text": [
      "<class 'dict'>\n",
      "{'1': 4, '4': 4} {'3': 3, '0': 2, '2': 2, '5': 2, '6': 1}\n"
     ]
    }
   ],
   "source": [
    "cns, remaining_nodes = stage_one(graph)\n",
    "print(cns, remaining_nodes)"
   ]
  },
  {
   "cell_type": "markdown",
   "metadata": {},
   "source": [
    "<center> <h1>  STAGE TWO </h1>"
   ]
  },
  {
   "cell_type": "markdown",
   "metadata": {},
   "source": [
    "<center> <h2>  Label propagation </h2>"
   ]
  },
  {
   "cell_type": "markdown",
   "metadata": {},
   "source": [
    "<br>"
   ]
  },
  {
   "cell_type": "code",
   "execution_count": 11,
   "metadata": {},
   "outputs": [],
   "source": [
    "from collections import defaultdict\n",
    "import random"
   ]
  },
  {
   "cell_type": "code",
   "execution_count": 12,
   "metadata": {},
   "outputs": [
    {
     "name": "stdout",
     "output_type": "stream",
     "text": [
      "{'1': [], '4': []}\n"
     ]
    }
   ],
   "source": [
    "def init_comm_set(cns, remaining_nodes):\n",
    "    for key in cns:\n",
    "        cns[key] = []\n",
    "        \n",
    "    remaining_nodes_list = []\n",
    "    for key in remaining_nodes:\n",
    "        remaining_nodes_list.append(key)\n",
    "    return cns, remaining_nodes_list\n",
    "\n",
    "\n",
    "cns, remaining_nodes_list = init_comm_set(cns, remaining_nodes)\n",
    "print(cns)"
   ]
  },
  {
   "cell_type": "code",
   "execution_count": 13,
   "metadata": {},
   "outputs": [],
   "source": [
    "def size_common_neighbors(l1, l2):\n",
    "    l1_set = set(l1)\n",
    "    intersection = l1_set.intersection(l2)\n",
    "    return len(list(intersection))\n",
    "\n",
    "def sim(u, v):\n",
    "    numerator = 2 * size_common_neighbors(graph.neighbors(u), graph.neighbors(v))\n",
    "    denominator = graph.degree(u) + graph.degree(v)\n",
    "    return(numerator/denominator)"
   ]
  },
  {
   "cell_type": "code",
   "execution_count": 14,
   "metadata": {},
   "outputs": [],
   "source": [
    "def max_similarity_neighbor(graph, central_node, remaining_nodes_list):\n",
    "    similarity_values = {}\n",
    "    max_value = 0\n",
    "    \n",
    "    neighbors_list = graph.neighbors(central_node)\n",
    "    \n",
    "    for rn in remaining_nodes_list:       \n",
    "        if int(rn) in neighbors_list:             \n",
    "            similarity_values[rn] = sim(central_node, rn)\n",
    "    print(\"len1: \",  len(list(similarity_values.values())))\n",
    "    if len(list(similarity_values.values())) > 0:       \n",
    "        max_value = max(list(similarity_values.values()))\n",
    "    else:\n",
    "        return \"False\", \"False\"\n",
    "    \n",
    "    for key, value in list(similarity_values.items()):\n",
    "        if value != max_value:\n",
    "            del similarity_values[key]\n",
    "    \n",
    "    random_node = random.choice(list(similarity_values.keys()))\n",
    "    \n",
    "    return random_node, similarity_values[random_node]"
   ]
  },
  {
   "cell_type": "code",
   "execution_count": 15,
   "metadata": {},
   "outputs": [],
   "source": [
    "def update_init_community(graph, cns, remaining_nodes_list):\n",
    "    similar_neighbors = {}\n",
    "    k = 0\n",
    "    while len(remaining_nodes_list) > 0:\n",
    "        max_val = 0\n",
    "\n",
    "        for central_node in cns:\n",
    "\n",
    "            rn, similarity = max_similarity_neighbor(graph, central_node, remaining_nodes_list) \n",
    "            if rn == \"False\":\n",
    "                k = 1\n",
    "                break\n",
    "                \n",
    "            similar_neighbors[central_node] = [rn, similarity]\n",
    "            if max_val < similarity:\n",
    "                max_val = similarity\n",
    "                \n",
    "        if k == 1:\n",
    "            break\n",
    "            \n",
    "        i = 0 \n",
    "        for key, value in list(similar_neighbors.items()):\n",
    "\n",
    "            if value[1] != max_val:\n",
    "                del similar_neighbors[key]\n",
    "            i += 1\n",
    "\n",
    "        random_n = random.choice(list(similar_neighbors.items()))\n",
    "        cns[random_n[0]].append(random_n[1][0])\n",
    "        remaining_nodes_list.remove(random_n[1][0])\n",
    "    return cns"
   ]
  },
  {
   "cell_type": "code",
   "execution_count": 16,
   "metadata": {},
   "outputs": [],
   "source": [
    "def Stage_two(cns, remaining_nodes):\n",
    "    init_comm_dict, remaining_nodes_list = init_comm_set(cns, remaining_nodes)\n",
    "    print(init_comm_dict)\n",
    "    pre_community = update_init_community(graph, init_comm_dict, remaining_nodes_list)\n",
    "    return pre_community"
   ]
  },
  {
   "cell_type": "code",
   "execution_count": 17,
   "metadata": {},
   "outputs": [
    {
     "name": "stdout",
     "output_type": "stream",
     "text": [
      "{'1': [], '4': []}\n",
      "len1:  4\n",
      "len1:  4\n",
      "len1:  3\n",
      "len1:  4\n",
      "len1:  2\n",
      "len1:  3\n",
      "len1:  1\n",
      "len1:  2\n",
      "len1:  0\n",
      "{'1': ['0', '3', '5'], '4': ['2']}\n"
     ]
    }
   ],
   "source": [
    "print(Stage_two(cns, remaining_nodes_list))"
   ]
  },
  {
   "cell_type": "code",
   "execution_count": null,
   "metadata": {},
   "outputs": [],
   "source": []
  },
  {
   "cell_type": "markdown",
   "metadata": {},
   "source": [
    "<b> Previous code: <b/>"
   ]
  },
  {
   "cell_type": "code",
   "execution_count": null,
   "metadata": {
    "scrolled": false
   },
   "outputs": [],
   "source": [
    "while len(degrees_dict) > 0:\n",
    "    \n",
    "    max_cn, max_n = max_similarity_node(graph, cns, degrees_dict)\n",
    "    key = get_key(init_comm_dict, max_cn)\n",
    "    print(\"\")\n",
    "    print(\"key: \",key)\n",
    "    print(\"\")\n",
    "    init_comm_dict[key].append(max_n)\n",
    "    print(init_comm_dict)\n",
    "    print(\"\")\n",
    "\n",
    "    cns[max_n] = degrees_dict[max_n]\n",
    "    print(\"\")\n",
    "    print(\"cns: \", cns)\n",
    "    print(\"\")\n",
    "    del degrees_dict[max_n]\n",
    "\n",
    "\n",
    "print(degrees_dict)\n",
    "print(init_comm_dict)\n",
    "\n",
    "def max_similarity_node(graph, cns, degrees_dict):\n",
    "    max_cn = \"\"\n",
    "    max_sim = -1\n",
    "    for c in cns:\n",
    "        similarity = 0\n",
    "        for n in degrees_dict:\n",
    "            neighbors = graph.neighbors(c)  \n",
    "            print(\"\")\n",
    "            print(\"v: \", c, \" u: \", n)\n",
    "            print(\"\")\n",
    "            if int(n) in neighbors:\n",
    "                print(\"\")\n",
    "                similarity = sim(c, n)\n",
    "                print(\"similarity: \", similarity, \" between \", c,\" and \", n)\n",
    "                print(\"\")\n",
    "            if similarity > max_sim:\n",
    "                max_cn = c\n",
    "                max_n = n\n",
    "                max_sim = similarity\n",
    "    print(\"\")\n",
    "    print(\"max_cn: \", max_cn)\n",
    "    print(\"\")\n",
    "    print(\"max_n: \", max_n)\n",
    "    print(\"\")\n",
    "    print(\"max_sim: \", max_sim)\n",
    "    print(\"\")\n",
    "    return max_cn, max_n\n",
    "\n",
    "def get_key(init_comm_dict, max_cn):\n",
    "    for k in init_comm_dict:\n",
    "        for i in range(len(init_comm_dict[k])):\n",
    "            if max_cn == init_comm_dict[k][i]:\n",
    "                return k"
   ]
  }
 ],
 "metadata": {
  "kernelspec": {
   "display_name": "Python 3",
   "language": "python",
   "name": "python3"
  },
  "language_info": {
   "codemirror_mode": {
    "name": "ipython",
    "version": 3
   },
   "file_extension": ".py",
   "mimetype": "text/x-python",
   "name": "python",
   "nbconvert_exporter": "python",
   "pygments_lexer": "ipython3",
   "version": "3.7.5"
  }
 },
 "nbformat": 4,
 "nbformat_minor": 4
}
